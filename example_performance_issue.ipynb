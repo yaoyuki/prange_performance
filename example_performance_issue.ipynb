{
 "cells": [
  {
   "cell_type": "code",
   "execution_count": 1,
   "metadata": {},
   "outputs": [],
   "source": [
    "import numpy as np\n",
    "import numba as nb\n",
    "import numpy.random as rng"
   ]
  },
  {
   "cell_type": "code",
   "execution_count": 2,
   "metadata": {},
   "outputs": [],
   "source": [
    "mus = np.array([0.1, 0.2, 0.3, 0.4, 0.5, 0.6])"
   ]
  },
  {
   "cell_type": "code",
   "execution_count": 3,
   "metadata": {},
   "outputs": [],
   "source": [
    "@nb.njit\n",
    "def exponential(scales):\n",
    "    \n",
    "    length = len(scales)\n",
    "    t_array = np.zeros((length))\n",
    "    \n",
    "    for i in range(length):\n",
    "        t_array[i] = rng.exponential(scales[i])\n",
    "        \n",
    "    return t_array\n",
    "# this can be written as \n",
    "# @nb.vectorize\n",
    "# def exponential(scale):\n",
    "#     return rng.exponential(scale)\n"
   ]
  },
  {
   "cell_type": "markdown",
   "metadata": {},
   "source": [
    "# Using external vectorized np.random.exponential"
   ]
  },
  {
   "cell_type": "code",
   "execution_count": 4,
   "metadata": {},
   "outputs": [],
   "source": [
    "@nb.njit\n",
    "def rand(mus, step_max, seed):\n",
    "    \n",
    "    # tuple = lambda x: to_fixed_tuple(x, max_size)\n",
    "    # exponential = lambda scales: np.array([rng.exponential(x) for x in scales] ) \n",
    "    \n",
    "    step = 0\n",
    "    tau = 0.\n",
    "    \n",
    "    rng.seed(seed)\n",
    "    dtaus = np.zeros(len(mus))\n",
    "    \n",
    "    while (step < step_max):\n",
    "        step = step + 1\n",
    "        \n",
    "        dtaus = exponential(1./mus)\n",
    "        \n",
    "        tau += np.min(dtaus)\n",
    "        \n",
    "    return tau\n",
    "    "
   ]
  },
  {
   "cell_type": "code",
   "execution_count": 5,
   "metadata": {},
   "outputs": [],
   "source": [
    "@nb.njit\n",
    "def nopar_simulate_multi(mus, step_max, num):\n",
    "    \n",
    "    seeds = np.arange(num)\n",
    "    taus = np.zeros(num)\n",
    "    \n",
    "    for i in nb.prange(num):\n",
    "        tau = rand(mus, step_max, seeds[i])\n",
    "        \n",
    "        taus[i] = tau\n",
    "        \n",
    "        \n",
    "    return taus\n",
    "        "
   ]
  },
  {
   "cell_type": "code",
   "execution_count": 6,
   "metadata": {},
   "outputs": [],
   "source": [
    "@nb.njit(parallel = True)\n",
    "def par_simulate_multi(mus, step_max, num):\n",
    "    \n",
    "    seeds = np.arange(num)\n",
    "    taus = np.zeros(num)\n",
    "    \n",
    "    for i in nb.prange(num):\n",
    "        tau = rand(mus, step_max, seeds[i])\n",
    "        \n",
    "        taus[i] = tau\n",
    "        \n",
    "        \n",
    "    return taus"
   ]
  },
  {
   "cell_type": "code",
   "execution_count": 7,
   "metadata": {},
   "outputs": [],
   "source": [
    "# compile\n",
    "tmp = nopar_simulate_multi(mus, 2, 2)\n",
    "tmp = par_simulate_multi(mus, 2, 2)\n"
   ]
  },
  {
   "cell_type": "code",
   "execution_count": 8,
   "metadata": {},
   "outputs": [
    {
     "name": "stdout",
     "output_type": "stream",
     "text": [
      "CPU times: user 10.2 s, sys: 9.47 ms, total: 10.2 s\n",
      "Wall time: 10.1 s\n"
     ]
    }
   ],
   "source": [
    "%%time\n",
    "tmp = nopar_simulate_multi(mus, 50000, 320)"
   ]
  },
  {
   "cell_type": "code",
   "execution_count": 9,
   "metadata": {},
   "outputs": [
    {
     "name": "stdout",
     "output_type": "stream",
     "text": [
      "CPU times: user 6min 39s, sys: 306 ms, total: 6min 39s\n",
      "Wall time: 7.16 s\n"
     ]
    }
   ],
   "source": [
    "%%time\n",
    "tmp = par_simulate_multi(mus, 50000, 320)"
   ]
  },
  {
   "cell_type": "markdown",
   "metadata": {},
   "source": [
    "# Without calling external funciton"
   ]
  },
  {
   "cell_type": "code",
   "execution_count": 10,
   "metadata": {},
   "outputs": [],
   "source": [
    "@nb.njit\n",
    "def rand_wo(mus, step_max, seed):\n",
    "    \n",
    "    # tuple = lambda x: to_fixed_tuple(x, max_size)\n",
    "    # exponential = lambda scales: np.array([rng.exponential(x) for x in scales] ) \n",
    "    \n",
    "    step = 0\n",
    "    tau = 0.\n",
    "    \n",
    "    rng.seed(seed)\n",
    "    dtaus = np.zeros(len(mus))\n",
    "    \n",
    "    while (step < step_max):\n",
    "        step = step + 1\n",
    "        \n",
    "        for i in range(len(mus)):\n",
    "            dtaus[i] = rng.exponential(1./mus[i])\n",
    "        \n",
    "        \n",
    "        tau += np.min(dtaus)\n",
    "        \n",
    "    return tau\n",
    "    "
   ]
  },
  {
   "cell_type": "code",
   "execution_count": 11,
   "metadata": {},
   "outputs": [],
   "source": [
    "@nb.njit\n",
    "def nopar_simulate_multi_wo(mus, step_max, num):\n",
    "    \n",
    "    seeds = np.arange(num)\n",
    "    taus = np.zeros(num)\n",
    "    \n",
    "    for i in nb.prange(num):\n",
    "        tau = rand_wo(mus, step_max, seeds[i])\n",
    "        \n",
    "        taus[i] = tau\n",
    "        \n",
    "        \n",
    "    return taus\n",
    "        "
   ]
  },
  {
   "cell_type": "code",
   "execution_count": 12,
   "metadata": {},
   "outputs": [],
   "source": [
    "@nb.njit(parallel = True)\n",
    "def par_simulate_multi_wo(mus, step_max, num):\n",
    "    \n",
    "    seeds = np.arange(num)\n",
    "    taus = np.zeros(num)\n",
    "    \n",
    "    for i in nb.prange(num):\n",
    "        tau = rand_wo(mus, step_max, seeds[i])\n",
    "        \n",
    "        taus[i] = tau\n",
    "        \n",
    "        \n",
    "    return taus"
   ]
  },
  {
   "cell_type": "code",
   "execution_count": 13,
   "metadata": {},
   "outputs": [],
   "source": [
    "# compile\n",
    "tmp = nopar_simulate_multi_wo(mus, 2, 2)\n",
    "tmp = par_simulate_multi_wo(mus, 2, 2)\n"
   ]
  },
  {
   "cell_type": "code",
   "execution_count": 14,
   "metadata": {},
   "outputs": [
    {
     "name": "stdout",
     "output_type": "stream",
     "text": [
      "CPU times: user 7.66 s, sys: 3.05 ms, total: 7.66 s\n",
      "Wall time: 7.6 s\n"
     ]
    }
   ],
   "source": [
    "%%time\n",
    "tmp = nopar_simulate_multi_wo(mus, 50000, 320)"
   ]
  },
  {
   "cell_type": "code",
   "execution_count": 15,
   "metadata": {},
   "outputs": [
    {
     "name": "stdout",
     "output_type": "stream",
     "text": [
      "CPU times: user 9.45 s, sys: 25 ms, total: 9.48 s\n",
      "Wall time: 220 ms\n"
     ]
    }
   ],
   "source": [
    "%%time\n",
    "tmp = par_simulate_multi_wo(mus, 50000, 320)"
   ]
  },
  {
   "cell_type": "code",
   "execution_count": null,
   "metadata": {},
   "outputs": [],
   "source": []
  }
 ],
 "metadata": {
  "kernelspec": {
   "display_name": "Python 3",
   "language": "python",
   "name": "python3"
  },
  "language_info": {
   "codemirror_mode": {
    "name": "ipython",
    "version": 3
   },
   "file_extension": ".py",
   "mimetype": "text/x-python",
   "name": "python",
   "nbconvert_exporter": "python",
   "pygments_lexer": "ipython3",
   "version": "3.7.6"
  }
 },
 "nbformat": 4,
 "nbformat_minor": 4
}
