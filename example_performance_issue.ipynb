{
 "cells": [
  {
   "cell_type": "code",
   "execution_count": 1,
   "metadata": {},
   "outputs": [],
   "source": [
    "import numpy as np\n",
    "import numba as nb\n",
    "import numpy.random as rng\n",
    "\n",
    "mus = np.array([0.1, 0.2, 0.3, 0.4, 0.5, 0.6])\n",
    "x, y = 5000, 320\n"
   ]
  },
  {
   "cell_type": "markdown",
   "metadata": {},
   "source": [
    "# no-inlining"
   ]
  },
  {
   "cell_type": "code",
   "execution_count": 2,
   "metadata": {},
   "outputs": [],
   "source": [
    "@nb.njit\n",
    "def exponential(scales):\n",
    "    \n",
    "    length = len(scales)\n",
    "    t_array = np.zeros((length))\n",
    "    \n",
    "    for i in range(length):\n",
    "        t_array[i] = rng.exponential(scales[i])\n",
    "        \n",
    "    return t_array\n",
    "\n",
    "@nb.njit\n",
    "def rand(mus, step_max, seed):\n",
    "    \n",
    "    step = 0\n",
    "    tau = 0.\n",
    "    \n",
    "    rng.seed(seed)\n",
    "    dtaus = np.zeros(len(mus))\n",
    "    \n",
    "    while (step < step_max):\n",
    "        step = step + 1\n",
    "        \n",
    "        dtaus = exponential(1./mus)\n",
    "        \n",
    "        tau += np.min(dtaus)\n",
    "        \n",
    "    return tau\n",
    "\n",
    "@nb.njit\n",
    "def nopar_simulate_multi(mus, step_max, num):\n",
    "    \n",
    "    seeds = np.arange(num)\n",
    "    taus = np.zeros(num)\n",
    "    \n",
    "    for i in nb.prange(num):\n",
    "        tau = rand(mus, step_max, seeds[i])\n",
    "        \n",
    "        taus[i] = tau\n",
    "        \n",
    "        \n",
    "    return taus\n",
    "\n",
    "@nb.njit(parallel = True)\n",
    "def par_simulate_multi(mus, step_max, num):\n",
    "    \n",
    "    seeds = np.arange(num)\n",
    "    taus = np.zeros(num)\n",
    "    \n",
    "    for i in nb.prange(num):\n",
    "        tau = rand(mus, step_max, seeds[i])\n",
    "        \n",
    "        taus[i] = tau\n",
    "        \n",
    "        \n",
    "    return taus\n"
   ]
  },
  {
   "cell_type": "code",
   "execution_count": 3,
   "metadata": {},
   "outputs": [
    {
     "name": "stdout",
     "output_type": "stream",
     "text": [
      "10.1 s ± 14.7 ms per loop (mean ± std. dev. of 7 runs, 1 loop each)\n",
      "7.33 s ± 58.7 ms per loop (mean ± std. dev. of 7 runs, 1 loop each)\n"
     ]
    }
   ],
   "source": [
    "# compile \n",
    "nopar_simulate_multi(mus,  2, 2)\n",
    "par_simulate_multi(mus, 2, 2)\n",
    "\n",
    "%timeit tmp = nopar_simulate_multi(mus, x, y)\n",
    "%timeit tmp = par_simulate_multi(mus, x, y)"
   ]
  },
  {
   "cell_type": "markdown",
   "metadata": {},
   "source": [
    "# Manual inlining"
   ]
  },
  {
   "cell_type": "code",
   "execution_count": 4,
   "metadata": {},
   "outputs": [],
   "source": [
    "@nb.njit\n",
    "def rand_wo(mus, step_max, seed):\n",
    "\n",
    "    \n",
    "    step = 0\n",
    "    tau = 0.\n",
    "    \n",
    "    rng.seed(seed)\n",
    "    dtaus = np.zeros(len(mus))\n",
    "    \n",
    "    while (step < step_max):\n",
    "        step = step + 1\n",
    "        \n",
    "        for i in range(len(mus)):\n",
    "            dtaus[i] = rng.exponential(1./mus[i])\n",
    "        \n",
    "        \n",
    "        tau += np.min(dtaus)\n",
    "        \n",
    "    return tau\n",
    "\n",
    "@nb.njit\n",
    "def nopar_simulate_multi_wo(mus, step_max, num):\n",
    "    \n",
    "    seeds = np.arange(num)\n",
    "    taus = np.zeros(num)\n",
    "    \n",
    "    for i in nb.prange(num):\n",
    "        tau = rand_wo(mus, step_max, seeds[i])\n",
    "        \n",
    "        taus[i] = tau\n",
    "        \n",
    "        \n",
    "    return taus\n",
    "\n",
    "\n",
    "@nb.njit(parallel = True)\n",
    "def par_simulate_multi_wo(mus, step_max, num):\n",
    "    \n",
    "    seeds = np.arange(num)\n",
    "    taus = np.zeros(num)\n",
    "    \n",
    "    for i in nb.prange(num):\n",
    "        tau = rand_wo(mus, step_max, seeds[i])\n",
    "        \n",
    "        taus[i] = tau\n",
    "        \n",
    "        \n",
    "    return taus\n",
    "\n"
   ]
  },
  {
   "cell_type": "code",
   "execution_count": 5,
   "metadata": {},
   "outputs": [
    {
     "name": "stdout",
     "output_type": "stream",
     "text": [
      "758 ms ± 813 µs per loop (mean ± std. dev. of 7 runs, 1 loop each)\n",
      "20.2 ms ± 3.79 ms per loop (mean ± std. dev. of 7 runs, 10 loops each)\n"
     ]
    }
   ],
   "source": [
    "# compile \n",
    "nopar_simulate_multi_wo(mus,  2, 2)\n",
    "par_simulate_multi_wo(mus, 2, 2)\n",
    "\n",
    "%timeit tmp = nopar_simulate_multi_wo(mus,  x, y)\n",
    "%timeit tmp = par_simulate_multi_wo(mus, x, y)"
   ]
  },
  {
   "cell_type": "markdown",
   "metadata": {},
   "source": [
    "# numba inliner"
   ]
  },
  {
   "cell_type": "code",
   "execution_count": 6,
   "metadata": {},
   "outputs": [],
   "source": [
    "@nb.njit(inline='always') # switch on IR inlining\n",
    "def exponential_inlined(scales):\n",
    "    \n",
    "    length = len(scales)\n",
    "    t_array = np.zeros((length))\n",
    "    \n",
    "    for i in range(length):\n",
    "        t_array[i] = rng.exponential(scales[i])\n",
    "        \n",
    "    return t_array\n",
    "\n",
    "@nb.njit\n",
    "def rand_w_inlined_exponential(mus, step_max, seed):\n",
    "    \n",
    "    step = 0\n",
    "    tau = 0.\n",
    "    \n",
    "    rng.seed(seed)\n",
    "    dtaus = np.zeros(len(mus))\n",
    "    \n",
    "    while (step < step_max):\n",
    "        step = step + 1\n",
    "        \n",
    "        dtaus = exponential_inlined(1./mus)\n",
    "        \n",
    "        tau += np.min(dtaus)\n",
    "        \n",
    "    return tau\n",
    "\n",
    "@nb.njit\n",
    "def nopar_simulate_multi_inlined_exponential(mus, step_max, num):\n",
    "    \n",
    "    seeds = np.arange(num)\n",
    "    taus = np.zeros(num)\n",
    "    \n",
    "    for i in nb.prange(num):\n",
    "        tau = rand_w_inlined_exponential(mus, step_max, seeds[i])\n",
    "        \n",
    "        taus[i] = tau\n",
    "        \n",
    "        \n",
    "    return taus\n",
    "\n",
    "@nb.njit(parallel = True)\n",
    "def par_simulate_multi_inlined_exponential(mus, step_max, num):\n",
    "    \n",
    "    seeds = np.arange(num)\n",
    "    taus = np.zeros(num)\n",
    "    \n",
    "    for i in nb.prange(num):\n",
    "        tau = rand_w_inlined_exponential(mus, step_max, seeds[i])\n",
    "        \n",
    "        taus[i] = tau\n",
    "        \n",
    "        \n",
    "    return taus\n",
    "\n",
    "\n",
    "\n"
   ]
  },
  {
   "cell_type": "code",
   "execution_count": 7,
   "metadata": {},
   "outputs": [
    {
     "name": "stdout",
     "output_type": "stream",
     "text": [
      "9.89 s ± 12.2 ms per loop (mean ± std. dev. of 7 runs, 1 loop each)\n",
      "7.38 s ± 152 ms per loop (mean ± std. dev. of 7 runs, 1 loop each)\n"
     ]
    }
   ],
   "source": [
    "# compile \n",
    "nopar_simulate_multi_inlined_exponential(mus,  2, 2)\n",
    "par_simulate_multi_inlined_exponential(mus, 2, 2)\n",
    "\n",
    "%timeit tmp = nopar_simulate_multi_inlined_exponential(mus, x, y)\n",
    "%timeit tmp = par_simulate_multi_inlined_exponential(mus, x, y)"
   ]
  },
  {
   "cell_type": "markdown",
   "metadata": {},
   "source": [
    "# no memory allocation in exponential "
   ]
  },
  {
   "cell_type": "code",
   "execution_count": 8,
   "metadata": {},
   "outputs": [],
   "source": [
    "@nb.njit\n",
    "def exponential_nomemalloc(scales, t_array):\n",
    "    \n",
    "    for i in range(len(t_array)):\n",
    "        t_array[i] = rng.exponential(scales[i])\n",
    "\n",
    "\n",
    "@nb.njit\n",
    "def rand_nomemalloc(mus, step_max, seed, dtaus):\n",
    "    \n",
    "    step = 0\n",
    "    tau = 0.\n",
    "    \n",
    "    rng.seed(seed)\n",
    "    \n",
    "    while (step < step_max):\n",
    "        step = step + 1\n",
    "        \n",
    "        exponential_nomemalloc(1./mus, dtaus)\n",
    "        \n",
    "        tau += np.min(dtaus)\n",
    "        \n",
    "    return tau\n",
    "\n",
    "@nb.njit\n",
    "def nopar_simulate_multi_nomemalloc(mus, step_max, num):\n",
    "    \n",
    "    seeds = np.arange(num)\n",
    "    taus = np.zeros(num)\n",
    "    \n",
    "    dtaus = np.zeros((num, len(mus)))\n",
    "    \n",
    "    for i in nb.prange(num):\n",
    "        tau = rand_nomemalloc(mus, step_max, seeds[i], dtaus[i, :])\n",
    "        \n",
    "        taus[i] = tau\n",
    "        \n",
    "        \n",
    "    return taus\n",
    "\n",
    "@nb.njit(parallel = True)\n",
    "def par_simulate_multi_nomemalloc(mus, step_max, num):\n",
    "    \n",
    "    seeds = np.arange(num)\n",
    "    taus = np.zeros(num)\n",
    "    dtaus = np.zeros((num, len(mus)))\n",
    "    \n",
    "    for i in nb.prange(num):\n",
    "        tau = rand_nomemalloc(mus, step_max, seeds[i], dtaus[i, :])\n",
    "        \n",
    "        taus[i] = tau\n",
    "        \n",
    "        \n",
    "    return taus\n"
   ]
  },
  {
   "cell_type": "code",
   "execution_count": 9,
   "metadata": {},
   "outputs": [
    {
     "name": "stdout",
     "output_type": "stream",
     "text": [
      "247 ms ± 2.98 ms per loop (mean ± std. dev. of 7 runs, 1 loop each)\n",
      "335 ms ± 1.83 ms per loop (mean ± std. dev. of 7 runs, 1 loop each)\n"
     ]
    }
   ],
   "source": [
    "# compile \n",
    "nopar_simulate_multi_nomemalloc(mus,  2, 2)\n",
    "par_simulate_multi_nomemalloc(mus,  2, 2)\n",
    "\n",
    "%timeit tmp = nopar_simulate_multi_nomemalloc(mus, x, y)\n",
    "%timeit tmp = par_simulate_multi_nomemalloc(mus, x, y)\n"
   ]
  }
 ],
 "metadata": {
  "kernelspec": {
   "display_name": "Python 3",
   "language": "python",
   "name": "python3"
  },
  "language_info": {
   "codemirror_mode": {
    "name": "ipython",
    "version": 3
   },
   "file_extension": ".py",
   "mimetype": "text/x-python",
   "name": "python",
   "nbconvert_exporter": "python",
   "pygments_lexer": "ipython3",
   "version": "3.7.6"
  }
 },
 "nbformat": 4,
 "nbformat_minor": 4
}
